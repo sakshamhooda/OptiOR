{
  "nbformat": 4,
  "nbformat_minor": 0,
  "metadata": {
    "colab": {
      "provenance": [],
      "authorship_tag": "ABX9TyO/V+pR3QW3OZ6POmVYa8Fh",
      "include_colab_link": true
    },
    "kernelspec": {
      "name": "python3",
      "display_name": "Python 3"
    },
    "language_info": {
      "name": "python"
    }
  },
  "cells": [
    {
      "cell_type": "markdown",
      "metadata": {
        "id": "view-in-github",
        "colab_type": "text"
      },
      "source": [
        "<a href=\"https://colab.research.google.com/github/sakshamhooda/OptiOR/blob/main/q3_a3_2k20mc116.ipynb\" target=\"_parent\"><img src=\"https://colab.research.google.com/assets/colab-badge.svg\" alt=\"Open In Colab\"/></a>"
      ]
    },
    {
      "cell_type": "markdown",
      "source": [
        "2K20-MC-116    SAKSHAM HOODA"
      ],
      "metadata": {
        "id": "0aiRC1Tu_EK2"
      }
    },
    {
      "cell_type": "code",
      "execution_count": null,
      "metadata": {
        "colab": {
          "base_uri": "https://localhost:8080/"
        },
        "id": "nicm62S6-9Bp",
        "outputId": "7c859db5-2785-47e4-ec97-2c48024f8ad1"
      },
      "outputs": [
        {
          "output_type": "stream",
          "name": "stdout",
          "text": [
            "Collecting pulp\n",
            "  Downloading PuLP-2.7.0-py3-none-any.whl (14.3 MB)\n",
            "\u001b[2K     \u001b[90m━━━━━━━━━━━━━━━━━━━━━━━━━━━━━━━━━━━━━━━━\u001b[0m \u001b[32m14.3/14.3 MB\u001b[0m \u001b[31m73.7 MB/s\u001b[0m eta \u001b[36m0:00:00\u001b[0m\n",
            "\u001b[?25hInstalling collected packages: pulp\n",
            "Successfully installed pulp-2.7.0\n"
          ]
        }
      ],
      "source": [
        "!pip install pulp"
      ]
    },
    {
      "cell_type": "markdown",
      "source": [
        "\n",
        "> A company uses four special tank trucks to deliver four different gasoline products to\n",
        "customers. Each tank has five compartments with different capacities: 500, 750, 1200,\n",
        "1500, and 1750 gallons. The daily demands for the four products are estimated at 10,\n",
        "15, 12, and 8 thousand gallons. Any quantities that cannot be delivered by the\n",
        "company’s four trucks must be subcontracted at the additional costs of 5, 12, 8, and\n",
        "10 cents per gallon for products 1, 2, 3, and 4, respectively. Develop the optimal daily\n",
        "loading schedule for the four trucks that will minimize the additional cost of\n",
        "subcontracting.\n",
        "\n",
        "\n"
      ],
      "metadata": {
        "id": "sKv9pIUE_L42"
      }
    },
    {
      "cell_type": "code",
      "source": [
        "import pulp"
      ],
      "metadata": {
        "id": "z-r1oMrg_sKU"
      },
      "execution_count": null,
      "outputs": []
    },
    {
      "cell_type": "code",
      "source": [
        "model = pulp.LpProblem(\"A3_Q3\", pulp.LpMinimize)"
      ],
      "metadata": {
        "id": "aMvcK1NWAd-M"
      },
      "execution_count": null,
      "outputs": []
    },
    {
      "cell_type": "code",
      "source": [
        "# Decision Variables\n",
        "S = pulp.LpVariable.dicts(\"Subcontracted\", [1,2,3,4,5], 0)\n",
        "X = pulp.LpVariable.dicts(\"Gallons_filled\", [(i,j,k) for i in range(1,5) for j in range(1,6) for k in range(1,5)], 0)\n",
        "Y = pulp.LpVariable.dicts(\"Binary_Y\", [(i,j,k) for i in range(1,5) for j in range(1,6) for k in range(1,5)], 0, 1, pulp.LpBinary)\n",
        "B = pulp.LpVariable.dicts(\"Binary_B\", [(i,k) for i in range(1,3) for k in range(1,5)], 0, 1, pulp.LpBinary)\n"
      ],
      "metadata": {
        "id": "KpY2eoASAuAS"
      },
      "execution_count": null,
      "outputs": []
    },
    {
      "cell_type": "code",
      "source": [
        "#objective 5*S[1] + 12*S[2] + 8*S[3] + 10*S[4]\n",
        "model += 5*S[1] + 12*S[2] + 8*S[3] + 10*S[4], \"Total_Subcontracting_Cost\""
      ],
      "metadata": {
        "id": "gzZFJvcwBIeZ"
      },
      "execution_count": null,
      "outputs": []
    },
    {
      "cell_type": "code",
      "source": [
        "# Demand Constraints\n",
        "model += pulp.lpSum([X[(1, j, k)] for j in range(1, 6) for k in range(1, 5)]) + S[1] == 10000\n",
        "model += pulp.lpSum([X[(2,j,k)] for j in range(1,6) for k in range(1,5)]) + S[2] == 15000\n",
        "model += pulp.lpSum([X[(3,j,k)] for j in range(1,6) for k in range(1,5)]) + S[3] == 12000\n",
        "model += pulp.lpSum([X[(4,j,k)] for j in range(1,6) for k in range(1,5)]) + S[4] == 8000\n",
        "\n",
        "# Capacity and linking constraints\n",
        "capacities = [500, 750, 1200, 1500, 1750]\n",
        "for i in range(1,5):\n",
        "    for k in range(1,5):\n",
        "        for j, cap in enumerate(capacities, start=1):\n",
        "            model += X[(i,j,k)] - cap*Y[(i,j,k)] <= 0\n",
        "\n",
        "for j in range(1,6):\n",
        "    for k in range(1,5):\n",
        "        model += pulp.lpSum([Y[(i,j,k)] for i in range(1,5)]) <= 1\n",
        "\n",
        "# Part-II Constraints\n",
        "for k in range(1,5):\n",
        "    model += B[(1,k)] + B[(2,k)] <= 1\n",
        "\n",
        "for i in range(1,3):\n",
        "    for k in range(1,5):\n",
        "        model += pulp.lpSum([Y[(i,j,k)] for j in range(1,6)]) - 5*B[(i,k)] <= 0\n",
        "        model += B[(i,k)] - pulp.lpSum([Y[(i,j,k)] for j in range(1,6)]) <= 0\n"
      ],
      "metadata": {
        "id": "4hD4oHJUBUyu"
      },
      "execution_count": null,
      "outputs": []
    },
    {
      "cell_type": "code",
      "source": [
        "model.solve()"
      ],
      "metadata": {
        "colab": {
          "base_uri": "https://localhost:8080/"
        },
        "id": "rp0mYTnFBb_R",
        "outputId": "0a33d9d3-8aae-47a2-ad7a-19851e3db137"
      },
      "execution_count": null,
      "outputs": [
        {
          "output_type": "execute_result",
          "data": {
            "text/plain": [
              "1"
            ]
          },
          "metadata": {},
          "execution_count": 16
        }
      ]
    },
    {
      "cell_type": "code",
      "source": [
        "print(f\"Status: {pulp.LpStatus[model.status]}\")\n",
        "print(f\"Total Subcontracting Cost: ${pulp.value(model.objective)}\")"
      ],
      "metadata": {
        "colab": {
          "base_uri": "https://localhost:8080/"
        },
        "id": "5lDE2KAUDE37",
        "outputId": "def9a4fd-7220-4f3b-f5b2-e4e7314e9b1c"
      },
      "execution_count": null,
      "outputs": [
        {
          "output_type": "stream",
          "name": "stdout",
          "text": [
            "Status: Optimal\n",
            "Total Subcontracting Cost: $148000.00000000003\n"
          ]
        }
      ]
    },
    {
      "cell_type": "code",
      "source": [
        "# Print the optimal values for the decision variables\n",
        "print(\"Optimal values for Subcontracted Gallons (S):\")\n",
        "for i in range(1,6):\n",
        "    print(f\"S{i}: {S[i].value()}\")\n",
        "\n"
      ],
      "metadata": {
        "colab": {
          "base_uri": "https://localhost:8080/"
        },
        "id": "2lrqGyZDDLSt",
        "outputId": "4e0d349e-4f77-4261-d1e5-ac415ad69c59"
      },
      "execution_count": null,
      "outputs": [
        {
          "output_type": "stream",
          "name": "stdout",
          "text": [
            "Optimal values for Subcontracted Gallons (S):\n",
            "S1: 10000.0\n",
            "S2: 1.7347672e-12\n",
            "S3: 12000.0\n",
            "S4: 200.0\n",
            "S5: None\n"
          ]
        }
      ]
    },
    {
      "cell_type": "code",
      "source": [
        "print(\"\\nOptimal values for Gallons Filled (X):\")\n",
        "for i in range(1,5):\n",
        "    for j in range(1,6):\n",
        "        for k in range(1,5):\n",
        "            print(f\"X({i},{j},{k}): {X[(i,j,k)].value()}\")\n",
        "\n"
      ],
      "metadata": {
        "colab": {
          "base_uri": "https://localhost:8080/"
        },
        "id": "DOWRohijDntf",
        "outputId": "013ba3d1-f80b-4203-db12-9f2089fc2ae5"
      },
      "execution_count": null,
      "outputs": [
        {
          "output_type": "stream",
          "name": "stdout",
          "text": [
            "\n",
            "Optimal values for Gallons Filled (X):\n",
            "X(1,1,1): 0.0\n",
            "X(1,1,2): 0.0\n",
            "X(1,1,3): 0.0\n",
            "X(1,1,4): 0.0\n",
            "X(1,2,1): 0.0\n",
            "X(1,2,2): 0.0\n",
            "X(1,2,3): 0.0\n",
            "X(1,2,4): 0.0\n",
            "X(1,3,1): 0.0\n",
            "X(1,3,2): 0.0\n",
            "X(1,3,3): 0.0\n",
            "X(1,3,4): 0.0\n",
            "X(1,4,1): 0.0\n",
            "X(1,4,2): 0.0\n",
            "X(1,4,3): 0.0\n",
            "X(1,4,4): 0.0\n",
            "X(1,5,1): 0.0\n",
            "X(1,5,2): 0.0\n",
            "X(1,5,3): 0.0\n",
            "X(1,5,4): 0.0\n",
            "X(2,1,1): 500.0\n",
            "X(2,1,2): 500.0\n",
            "X(2,1,3): 500.0\n",
            "X(2,1,4): 500.0\n",
            "X(2,2,1): 0.0\n",
            "X(2,2,2): 750.0\n",
            "X(2,2,3): 0.0\n",
            "X(2,2,4): 750.0\n",
            "X(2,3,1): 0.0\n",
            "X(2,3,2): 0.0\n",
            "X(2,3,3): 0.0\n",
            "X(2,3,4): 0.0\n",
            "X(2,4,1): 1500.0\n",
            "X(2,4,2): 1500.0\n",
            "X(2,4,3): 0.0\n",
            "X(2,4,4): 1500.0\n",
            "X(2,5,1): 1750.0\n",
            "X(2,5,2): 1750.0\n",
            "X(2,5,3): 1750.0\n",
            "X(2,5,4): 1750.0\n",
            "X(3,1,1): 0.0\n",
            "X(3,1,2): 0.0\n",
            "X(3,1,3): 0.0\n",
            "X(3,1,4): 0.0\n",
            "X(3,2,1): 0.0\n",
            "X(3,2,2): 0.0\n",
            "X(3,2,3): 0.0\n",
            "X(3,2,4): 0.0\n",
            "X(3,3,1): 0.0\n",
            "X(3,3,2): 0.0\n",
            "X(3,3,3): 0.0\n",
            "X(3,3,4): 0.0\n",
            "X(3,4,1): 0.0\n",
            "X(3,4,2): 0.0\n",
            "X(3,4,3): 0.0\n",
            "X(3,4,4): 0.0\n",
            "X(3,5,1): 0.0\n",
            "X(3,5,2): 0.0\n",
            "X(3,5,3): 0.0\n",
            "X(3,5,4): 0.0\n",
            "X(4,1,1): 0.0\n",
            "X(4,1,2): 0.0\n",
            "X(4,1,3): 0.0\n",
            "X(4,1,4): 0.0\n",
            "X(4,2,1): 750.0\n",
            "X(4,2,2): 0.0\n",
            "X(4,2,3): 750.0\n",
            "X(4,2,4): 0.0\n",
            "X(4,3,1): 1200.0\n",
            "X(4,3,2): 1200.0\n",
            "X(4,3,3): 1200.0\n",
            "X(4,3,4): 1200.0\n",
            "X(4,4,1): 0.0\n",
            "X(4,4,2): 0.0\n",
            "X(4,4,3): 1500.0\n",
            "X(4,4,4): 0.0\n",
            "X(4,5,1): 0.0\n",
            "X(4,5,2): 0.0\n",
            "X(4,5,3): 0.0\n",
            "X(4,5,4): 0.0\n"
          ]
        }
      ]
    },
    {
      "cell_type": "code",
      "source": [
        "print(\"\\nOptimal values for Binary Decision Y:\")\n",
        "for i in range(1,5):\n",
        "    for j in range(1,6):\n",
        "        for k in range(1,5):\n",
        "            print(f\"Y({i},{j},{k}): {Y[(i,j,k)].value()}\")\n",
        "\n"
      ],
      "metadata": {
        "colab": {
          "base_uri": "https://localhost:8080/"
        },
        "id": "RVJ_m0pHDx0D",
        "outputId": "205ef709-9650-4348-9a36-208623aa24b7"
      },
      "execution_count": null,
      "outputs": [
        {
          "output_type": "stream",
          "name": "stdout",
          "text": [
            "\n",
            "Optimal values for Binary Decision Y:\n",
            "Y(1,1,1): 0.0\n",
            "Y(1,1,2): 0.0\n",
            "Y(1,1,3): 0.0\n",
            "Y(1,1,4): 0.0\n",
            "Y(1,2,1): 0.0\n",
            "Y(1,2,2): 0.0\n",
            "Y(1,2,3): 0.0\n",
            "Y(1,2,4): 0.0\n",
            "Y(1,3,1): 0.0\n",
            "Y(1,3,2): 0.0\n",
            "Y(1,3,3): 0.0\n",
            "Y(1,3,4): 0.0\n",
            "Y(1,4,1): 0.0\n",
            "Y(1,4,2): 0.0\n",
            "Y(1,4,3): 0.0\n",
            "Y(1,4,4): 0.0\n",
            "Y(1,5,1): 0.0\n",
            "Y(1,5,2): 0.0\n",
            "Y(1,5,3): 0.0\n",
            "Y(1,5,4): 0.0\n",
            "Y(2,1,1): 1.0\n",
            "Y(2,1,2): 1.0\n",
            "Y(2,1,3): 1.0\n",
            "Y(2,1,4): 1.0\n",
            "Y(2,2,1): 0.0\n",
            "Y(2,2,2): 1.0\n",
            "Y(2,2,3): 0.0\n",
            "Y(2,2,4): 1.0\n",
            "Y(2,3,1): 0.0\n",
            "Y(2,3,2): 0.0\n",
            "Y(2,3,3): 0.0\n",
            "Y(2,3,4): 0.0\n",
            "Y(2,4,1): 1.0\n",
            "Y(2,4,2): 1.0\n",
            "Y(2,4,3): 0.0\n",
            "Y(2,4,4): 1.0\n",
            "Y(2,5,1): 1.0\n",
            "Y(2,5,2): 1.0\n",
            "Y(2,5,3): 1.0\n",
            "Y(2,5,4): 1.0\n",
            "Y(3,1,1): 0.0\n",
            "Y(3,1,2): 0.0\n",
            "Y(3,1,3): 0.0\n",
            "Y(3,1,4): 0.0\n",
            "Y(3,2,1): 0.0\n",
            "Y(3,2,2): 0.0\n",
            "Y(3,2,3): 0.0\n",
            "Y(3,2,4): 0.0\n",
            "Y(3,3,1): 0.0\n",
            "Y(3,3,2): 0.0\n",
            "Y(3,3,3): 0.0\n",
            "Y(3,3,4): 0.0\n",
            "Y(3,4,1): 0.0\n",
            "Y(3,4,2): 0.0\n",
            "Y(3,4,3): 0.0\n",
            "Y(3,4,4): 0.0\n",
            "Y(3,5,1): 0.0\n",
            "Y(3,5,2): 0.0\n",
            "Y(3,5,3): 0.0\n",
            "Y(3,5,4): 0.0\n",
            "Y(4,1,1): 0.0\n",
            "Y(4,1,2): 0.0\n",
            "Y(4,1,3): 0.0\n",
            "Y(4,1,4): 0.0\n",
            "Y(4,2,1): 1.0\n",
            "Y(4,2,2): 0.0\n",
            "Y(4,2,3): 1.0\n",
            "Y(4,2,4): 0.0\n",
            "Y(4,3,1): 1.0\n",
            "Y(4,3,2): 1.0\n",
            "Y(4,3,3): 1.0\n",
            "Y(4,3,4): 1.0\n",
            "Y(4,4,1): 0.0\n",
            "Y(4,4,2): 0.0\n",
            "Y(4,4,3): 1.0\n",
            "Y(4,4,4): 0.0\n",
            "Y(4,5,1): 0.0\n",
            "Y(4,5,2): 0.0\n",
            "Y(4,5,3): 0.0\n",
            "Y(4,5,4): 0.0\n"
          ]
        }
      ]
    },
    {
      "cell_type": "code",
      "source": [
        "print(\"\\nOptimal values for Binary Decision B:\")\n",
        "for i in range(1,3):\n",
        "    for k in range(1,5):\n",
        "        print(f\"B({i},{k}): {B[(i,k)].value()}\")"
      ],
      "metadata": {
        "colab": {
          "base_uri": "https://localhost:8080/"
        },
        "id": "lb7JmwS_D3Ha",
        "outputId": "d1f97faf-bcec-483a-9bc3-85dfe16d80d3"
      },
      "execution_count": null,
      "outputs": [
        {
          "output_type": "stream",
          "name": "stdout",
          "text": [
            "\n",
            "Optimal values for Binary Decision B:\n",
            "B(1,1): 0.0\n",
            "B(1,2): 0.0\n",
            "B(1,3): 0.0\n",
            "B(1,4): 0.0\n",
            "B(2,1): 1.0\n",
            "B(2,2): 1.0\n",
            "B(2,3): 1.0\n",
            "B(2,4): 1.0\n"
          ]
        }
      ]
    }
  ]
}
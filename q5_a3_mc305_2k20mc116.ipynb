{
  "nbformat": 4,
  "nbformat_minor": 0,
  "metadata": {
    "colab": {
      "provenance": [],
      "authorship_tag": "ABX9TyPxo7F58/sUQYOsjVOvgZCO",
      "include_colab_link": true
    },
    "kernelspec": {
      "name": "python3",
      "display_name": "Python 3"
    },
    "language_info": {
      "name": "python"
    }
  },
  "cells": [
    {
      "cell_type": "markdown",
      "metadata": {
        "id": "view-in-github",
        "colab_type": "text"
      },
      "source": [
        "<a href=\"https://colab.research.google.com/github/sakshamhooda/OptiOR/blob/main/q5_a3_mc305_2k20mc116.ipynb\" target=\"_parent\"><img src=\"https://colab.research.google.com/assets/colab-badge.svg\" alt=\"Open In Colab\"/></a>"
      ]
    },
    {
      "cell_type": "markdown",
      "source": [
        "2K20-MC-116\n",
        "SAKSHAM HOODA"
      ],
      "metadata": {
        "id": "WiSYwk1_Jwue"
      }
    },
    {
      "cell_type": "code",
      "source": [
        "!pip install pulp"
      ],
      "metadata": {
        "colab": {
          "base_uri": "https://localhost:8080/"
        },
        "id": "M_dTQUM0I618",
        "outputId": "2dc4c4bf-3257-4ac2-b108-6ffbbbc4afeb"
      },
      "execution_count": null,
      "outputs": [
        {
          "output_type": "stream",
          "name": "stdout",
          "text": [
            "Collecting pulp\n",
            "  Downloading PuLP-2.7.0-py3-none-any.whl (14.3 MB)\n",
            "\u001b[2K     \u001b[90m━━━━━━━━━━━━━━━━━━━━━━━━━━━━━━━━━━━━━━━━\u001b[0m \u001b[32m14.3/14.3 MB\u001b[0m \u001b[31m61.8 MB/s\u001b[0m eta \u001b[36m0:00:00\u001b[0m\n",
            "\u001b[?25hInstalling collected packages: pulp\n",
            "Successfully installed pulp-2.7.0\n"
          ]
        }
      ]
    },
    {
      "cell_type": "markdown",
      "source": [
        "Professor Yataha needs to schedule eight round trips between Boston and\n",
        "Washington, D.C. The route is served by three airlines, Eastern, US Air, and\n",
        "Continental, and there is no penalty for the purchase of one-way tickets. Each airline\n",
        "offers bonus miles for frequent fliers. Eastern gives 1500 miles per (one-way) ticket\n",
        "plus 5000 extra miles if the number of tickets in a month reaches 3 and another 5000\n",
        "miles if the number exceeds 5. US Air gives 1800 miles per ticket plus 12,000 extra\n",
        "for each 6 ticket. Continental gives 2000 miles per ticket plus 7500 extra for each 5\n",
        "tickets. Professor Yataha wishes to allocate the 16 one-way tickets among the three\n",
        "airlines to maximize the total number of bonus miles earned."
      ],
      "metadata": {
        "id": "cxmY1mIiJ1wF"
      }
    },
    {
      "cell_type": "code",
      "source": [
        "import pulp"
      ],
      "metadata": {
        "id": "PgMYC0igIsIR"
      },
      "execution_count": null,
      "outputs": []
    },
    {
      "cell_type": "code",
      "source": [
        "model = pulp.LpProblem(\"Bonus_Miles_Maximization\", pulp.LpMaximize)"
      ],
      "metadata": {
        "id": "VF76IXdUIvqP"
      },
      "execution_count": null,
      "outputs": []
    },
    {
      "cell_type": "code",
      "source": [
        "# Decision Variables\n",
        "x = pulp.LpVariable.dicts(\"Tickets\", [1, 2, 3], 0, 16, pulp.LpInteger)\n",
        "b_eastern = pulp.LpVariable.dicts(\"Bonus_Eastern\", [1, 2], 0, 1, pulp.LpBinary)\n",
        "b_usair = pulp.LpVariable(\"Bonus_USAir\", 0, 1, pulp.LpBinary)\n",
        "b_conti = pulp.LpVariable(\"Bonus_Continental\", 0, 1, pulp.LpBinary)"
      ],
      "metadata": {
        "id": "BmykkGSeJIa6"
      },
      "execution_count": null,
      "outputs": []
    },
    {
      "cell_type": "code",
      "source": [
        "\n",
        "# Objective Function\n",
        "model += 1500*x[1] + 5000*b_eastern[1] + 5000*b_eastern[2] + 1800*x[2] + 12000*b_usair + 2000*x[3] + 7500*b_conti, \"Total_Bonus_Miles\""
      ],
      "metadata": {
        "id": "O6WH2hbQJTyX"
      },
      "execution_count": null,
      "outputs": []
    },
    {
      "cell_type": "code",
      "source": [
        "# Constraints\n",
        "model += x[1] + x[2] + x[3] == 16  # Total Tickets\n",
        "model += x[1] >= 3*b_eastern[1]\n",
        "model += x[1] - 3 >= 3*b_eastern[2]\n",
        "model += x[2] >= 6*b_usair\n",
        "model += x[3] >= 5*b_conti"
      ],
      "metadata": {
        "id": "fRi0b2cMJZit"
      },
      "execution_count": null,
      "outputs": []
    },
    {
      "cell_type": "code",
      "source": [
        "# Solve the problem\n",
        "model.solve()\n",
        "\n",
        "# Print the status and the optimized objective function value\n",
        "status = pulp.LpStatus[model.status]\n",
        "total_miles = pulp.value(model.objective)\n",
        "x_values = {i: x[i].value() for i in range(1, 4)}\n",
        "\n",
        "status, total_miles, x_values"
      ],
      "metadata": {
        "colab": {
          "base_uri": "https://localhost:8080/"
        },
        "id": "u-rLGughJeey",
        "outputId": "38533e31-2c0f-4cd3-87c1-1cf5c94f2e44"
      },
      "execution_count": null,
      "outputs": [
        {
          "output_type": "execute_result",
          "data": {
            "text/plain": [
              "('Optimal', 53800.0, {1: 3.0, 2: 6.0, 3: 7.0})"
            ]
          },
          "metadata": {},
          "execution_count": 8
        }
      ]
    }
  ]
}